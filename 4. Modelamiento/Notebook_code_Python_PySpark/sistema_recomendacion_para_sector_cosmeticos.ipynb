{
 "cells": [
  {
   "cell_type": "markdown",
   "metadata": {},
   "source": [
    "# Modelo ALS: Trabajo Minería Grandes Volumenes de Información\n",
    "## Integrantes\n",
    "* Daniel Enrique Pinto Restrepo\n",
    "* Santiago Mejía Chitiva\n",
    "* Carlos Andres Cuartas Murillo\n",
    "* Daniel Roman Ramirez"
   ]
  },
  {
   "cell_type": "markdown",
   "metadata": {},
   "source": [
    "## Resumen\n",
    "El objetivo de este trabajo es realizar un sistema de recomendación para el negocio de belleza, con la información de recomendaciones de aws. El desarrollo de este notebook es sencillo, primero cargamos la base de datos, le damos una primera mirada a su estructura y luego nos quedamos con las variables relevantes `customer_id`, `product_id` y `star_rating`. Luego se realiza un cambio en el id de los productos, ya que la libería que utilizamos para usar el algoritmo del ALS requiere que todos los campos sean númericos. El paso siguientes es normalizar los ratings por la media de los productos, seguido de esto separamos los datos en entrenamiento y testeo, entrenamos el modelo y luego lo probamos en los datos de testeo. En este caso obtenemos un RMSE de **1.11**, de acuerdo a esto, realizamos una normalización adicional pero esta vez es por la media de los consumidores. Al realizar esta normalización mejora mucho el modelo y su resultado, ya que el RMSE llega a **0.95**"
   ]
  },
  {
   "cell_type": "markdown",
   "metadata": {},
   "source": [
    "## Primeros pasos con el Notebook\n",
    "En esta primera parte del notebook vemos información general de la configuración"
   ]
  },
  {
   "cell_type": "code",
   "execution_count": 1,
   "metadata": {},
   "outputs": [
    {
     "data": {
      "text/html": [
       "Current session configs: <tt>{'conf': {'spark.pyspark.python': 'python3', 'spark.pyspark.virtualenv.enabled': 'true', 'spark.pyspark.virtualenv.type': 'native', 'spark.pyspark.virtualenv.bin.path': '/usr/bin/virtualenv'}, 'kind': 'pyspark'}</tt><br>"
      ],
      "text/plain": [
       "<IPython.core.display.HTML object>"
      ]
     },
     "metadata": {},
     "output_type": "display_data"
    },
    {
     "data": {
      "text/html": [
       "No active sessions."
      ],
      "text/plain": [
       "<IPython.core.display.HTML object>"
      ]
     },
     "metadata": {},
     "output_type": "display_data"
    }
   ],
   "source": [
    "%%info"
   ]
  },
  {
   "cell_type": "markdown",
   "metadata": {},
   "source": [
    "## Carga de los datos y descripción\n",
    "Cómo se mencionó antes usaremos los datos de amazon aws. La descripción de los datos se realizó en el Notebook de la implementación del modelo base de Knn, los datos se guardaron en el bucket S3 del proyecto en formato parquet, el paso que sigue a continuación es la carga del archivo desde le bucket"
   ]
  },
  {
   "cell_type": "code",
   "execution_count": 2,
   "metadata": {},
   "outputs": [
    {
     "data": {
      "application/vnd.jupyter.widget-view+json": {
       "model_id": "d890d7c2fbd14c83b4378dfcce8b0c69",
       "version_major": 2,
       "version_minor": 0
      },
      "text/plain": [
       "VBox()"
      ]
     },
     "metadata": {},
     "output_type": "display_data"
    },
    {
     "name": "stdout",
     "output_type": "stream",
     "text": [
      "Starting Spark application\n"
     ]
    },
    {
     "data": {
      "text/html": [
       "<table>\n",
       "<tr><th>ID</th><th>YARN Application ID</th><th>Kind</th><th>State</th><th>Spark UI</th><th>Driver log</th><th>Current session?</th></tr><tr><td>0</td><td>application_1600115920100_0001</td><td>pyspark</td><td>idle</td><td><a target=\"_blank\" href=\"http://ip-172-31-78-73.ec2.internal:20888/proxy/application_1600115920100_0001/\">Link</a></td><td><a target=\"_blank\" href=\"http://ip-172-31-68-140.ec2.internal:8042/node/containerlogs/container_1600115920100_0001_01_000001/livy\">Link</a></td><td>✔</td></tr></table>"
      ],
      "text/plain": [
       "<IPython.core.display.HTML object>"
      ]
     },
     "metadata": {},
     "output_type": "display_data"
    },
    {
     "data": {
      "application/vnd.jupyter.widget-view+json": {
       "model_id": "",
       "version_major": 2,
       "version_minor": 0
      },
      "text/plain": [
       "FloatProgress(value=0.0, bar_style='info', description='Progress:', layout=Layout(height='25px', width='50%'),…"
      ]
     },
     "metadata": {},
     "output_type": "display_data"
    },
    {
     "name": "stdout",
     "output_type": "stream",
     "text": [
      "SparkSession available as 'spark'.\n"
     ]
    },
    {
     "data": {
      "application/vnd.jupyter.widget-view+json": {
       "model_id": "",
       "version_major": 2,
       "version_minor": 0
      },
      "text/plain": [
       "FloatProgress(value=0.0, bar_style='info', description='Progress:', layout=Layout(height='25px', width='50%'),…"
      ]
     },
     "metadata": {},
     "output_type": "display_data"
    }
   ],
   "source": [
    "df  = spark.read.parquet(\"s3://proyecto.mineria/revies_beauty.parquet.gzip\")"
   ]
  },
  {
   "cell_type": "code",
   "execution_count": 3,
   "metadata": {},
   "outputs": [
    {
     "data": {
      "application/vnd.jupyter.widget-view+json": {
       "model_id": "e513c9b59a2840509ee4b7f154b760e8",
       "version_major": 2,
       "version_minor": 0
      },
      "text/plain": [
       "VBox()"
      ]
     },
     "metadata": {},
     "output_type": "display_data"
    },
    {
     "data": {
      "application/vnd.jupyter.widget-view+json": {
       "model_id": "",
       "version_major": 2,
       "version_minor": 0
      },
      "text/plain": [
       "FloatProgress(value=0.0, bar_style='info', description='Progress:', layout=Layout(height='25px', width='50%'),…"
      ]
     },
     "metadata": {},
     "output_type": "display_data"
    },
    {
     "name": "stdout",
     "output_type": "stream",
     "text": [
      "+-----------+-----------+--------------+----------+--------------+--------------------+----------------+-----------+-------------+-----------+----+-----------------+--------------------+--------------------+-------------------+\n",
      "|marketplace|customer_id|     review_id|product_id|product_parent|       product_title|product_category|star_rating|helpful_votes|total_votes|vine|verified_purchase|     review_headline|         review_body|        review_date|\n",
      "+-----------+-----------+--------------+----------+--------------+--------------------+----------------+-----------+-------------+-----------+----+-----------------+--------------------+--------------------+-------------------+\n",
      "|         US|    1797882|R3I2DHQBR577SS|B001ANOOOE|       2102612|The Naked Bee Vit...|          Beauty|          5|            0|          0|   N|                Y|          Five Stars|Love this, excell...|2015-08-31 00:00:00|\n",
      "|         US|   18381298|R1QNE9NQFJC2Y4|B0016J22EQ|     106393691|Alba Botanica Sun...|          Beauty|          5|            0|          0|   N|                Y|Thank you Alba Bo...|The great thing a...|2015-08-31 00:00:00|\n",
      "|         US|   19242472|R3LIDG2Q4LJBAO|B00HU6UQAG|     375449471|Elysee Infusion S...|          Beauty|          5|            0|          0|   N|                Y|          Five Stars|Great Product, I'...|2015-08-31 00:00:00|\n",
      "|         US|   19551372|R3KSZHPAEVPEAL|B002HWS7RM|     255651889|Diane D722 Color,...|          Beauty|          5|            0|          0|   N|                Y|          GOOD DEAL!|I use them as sho...|2015-08-31 00:00:00|\n",
      "|         US|   14802407| RAI2OIG50KZ43|B00SM99KWU|     116158747|Biore UV Aqua Ric...|          Beauty|          5|            0|          0|   N|                Y|this soaks in qui...|This is my go-to ...|2015-08-31 00:00:00|\n",
      "+-----------+-----------+--------------+----------+--------------+--------------------+----------------+-----------+-------------+-----------+----+-----------------+--------------------+--------------------+-------------------+\n",
      "only showing top 5 rows"
     ]
    }
   ],
   "source": [
    "#Acá podemos ver un poco de la base de datos\n",
    "df.show(n=5)"
   ]
  },
  {
   "cell_type": "markdown",
   "metadata": {},
   "source": [
    "---\n",
    "\n",
    "---"
   ]
  },
  {
   "cell_type": "markdown",
   "metadata": {},
   "source": [
    "En los pasos siguientes filtraremos solo las columnas que necesitamos, en nuestro caso son **product_id**, **customer_id** y **star_rating**"
   ]
  },
  {
   "cell_type": "code",
   "execution_count": 4,
   "metadata": {},
   "outputs": [
    {
     "data": {
      "application/vnd.jupyter.widget-view+json": {
       "model_id": "778a3cd096824170b6b6d3e71cf9e162",
       "version_major": 2,
       "version_minor": 0
      },
      "text/plain": [
       "VBox()"
      ]
     },
     "metadata": {},
     "output_type": "display_data"
    },
    {
     "data": {
      "application/vnd.jupyter.widget-view+json": {
       "model_id": "",
       "version_major": 2,
       "version_minor": 0
      },
      "text/plain": [
       "FloatProgress(value=0.0, bar_style='info', description='Progress:', layout=Layout(height='25px', width='50%'),…"
      ]
     },
     "metadata": {},
     "output_type": "display_data"
    }
   ],
   "source": [
    "df_mod=df.drop(\"marketplace\",\"product_title\",\"product_category\",\"review_id\",\"product_parent\",\n",
    "               \"helpful_votes\",\"total_votes\",\"vine\",\"verified_purchase\",\"review_headline\",\n",
    "               \"review_body\", \"review_date\")"
   ]
  },
  {
   "cell_type": "code",
   "execution_count": 5,
   "metadata": {},
   "outputs": [
    {
     "data": {
      "application/vnd.jupyter.widget-view+json": {
       "model_id": "a55f9c08f53f4695abd6714a2d16f2c5",
       "version_major": 2,
       "version_minor": 0
      },
      "text/plain": [
       "VBox()"
      ]
     },
     "metadata": {},
     "output_type": "display_data"
    },
    {
     "data": {
      "application/vnd.jupyter.widget-view+json": {
       "model_id": "",
       "version_major": 2,
       "version_minor": 0
      },
      "text/plain": [
       "FloatProgress(value=0.0, bar_style='info', description='Progress:', layout=Layout(height='25px', width='50%'),…"
      ]
     },
     "metadata": {},
     "output_type": "display_data"
    },
    {
     "name": "stdout",
     "output_type": "stream",
     "text": [
      "+-----------+----------+-----------+\n",
      "|customer_id|product_id|star_rating|\n",
      "+-----------+----------+-----------+\n",
      "|    1797882|B001ANOOOE|          5|\n",
      "|   18381298|B0016J22EQ|          5|\n",
      "|   19242472|B00HU6UQAG|          5|\n",
      "|   19551372|B002HWS7RM|          5|\n",
      "|   14802407|B00SM99KWU|          5|\n",
      "+-----------+----------+-----------+\n",
      "only showing top 5 rows"
     ]
    }
   ],
   "source": [
    "df_mod.show(5)"
   ]
  },
  {
   "cell_type": "markdown",
   "metadata": {},
   "source": [
    "Ahora realizaremos la preparación para la base de datos con el objetivo de entrenar el modelo. Al momento de cargar la base de datos nos percatamos que la variable `star_rating` se encontraba en string, es necesario entonces pasar dicha variable a integer."
   ]
  },
  {
   "cell_type": "code",
   "execution_count": 6,
   "metadata": {},
   "outputs": [
    {
     "data": {
      "application/vnd.jupyter.widget-view+json": {
       "model_id": "edff066b7afc414f984d9d100d84dac2",
       "version_major": 2,
       "version_minor": 0
      },
      "text/plain": [
       "VBox()"
      ]
     },
     "metadata": {},
     "output_type": "display_data"
    },
    {
     "data": {
      "application/vnd.jupyter.widget-view+json": {
       "model_id": "",
       "version_major": 2,
       "version_minor": 0
      },
      "text/plain": [
       "FloatProgress(value=0.0, bar_style='info', description='Progress:', layout=Layout(height='25px', width='50%'),…"
      ]
     },
     "metadata": {},
     "output_type": "display_data"
    }
   ],
   "source": [
    "from pyspark.sql.types import StringType, DoubleType, IntegerType\n",
    "df_mod = df_mod.withColumn(\"star_rating\",df_mod[\"star_rating\"].cast(IntegerType())) # Convertir variable \"star_rating\" de \"string\" a \"integer\""
   ]
  },
  {
   "cell_type": "code",
   "execution_count": 7,
   "metadata": {},
   "outputs": [
    {
     "data": {
      "application/vnd.jupyter.widget-view+json": {
       "model_id": "423673a7ab8348289be30ce4577765ef",
       "version_major": 2,
       "version_minor": 0
      },
      "text/plain": [
       "VBox()"
      ]
     },
     "metadata": {},
     "output_type": "display_data"
    },
    {
     "data": {
      "application/vnd.jupyter.widget-view+json": {
       "model_id": "",
       "version_major": 2,
       "version_minor": 0
      },
      "text/plain": [
       "FloatProgress(value=0.0, bar_style='info', description='Progress:', layout=Layout(height='25px', width='50%'),…"
      ]
     },
     "metadata": {},
     "output_type": "display_data"
    },
    {
     "name": "stdout",
     "output_type": "stream",
     "text": [
      "+-----------+----------+-----------+----------------+\n",
      "|customer_id|product_id|star_rating|product_id_index|\n",
      "+-----------+----------+-----------+----------------+\n",
      "|    1797882|B001ANOOOE|          5|            6405|\n",
      "|   18381298|B0016J22EQ|          5|           15168|\n",
      "|   19242472|B00HU6UQAG|          5|          359617|\n",
      "|   19551372|B002HWS7RM|          5|             976|\n",
      "|   14802407|B00SM99KWU|          5|            3665|\n",
      "|    2909389|B000NYL1Z6|          4|           77601|\n",
      "|   19397215|B001SYWTFG|          5|            3058|\n",
      "|    3195210|B005F2EVMQ|          5|           44245|\n",
      "|   52216383|B00M1SUW7K|          5|            4058|\n",
      "|   10278216|B001KYQA1S|          1|             899|\n",
      "|   24655453|B00SAQ9DZY|          4|           33156|\n",
      "|   30788223|B00HFQQ0VU|          5|              36|\n",
      "|   11257536|B00PYL8MAA|          4|          179388|\n",
      "|   29605778|B00D9NV2D4|          5|              23|\n",
      "|   41238422|B008Y9M412|          5|           20100|\n",
      "|   23620123|B00FWXBLHG|          5|          112936|\n",
      "|   25564245|B003KL8CB0|          5|          120003|\n",
      "|     801375|B006R2LNV0|          5|          387169|\n",
      "|    9478730|B00SMIIR0W|          5|             147|\n",
      "|   18418407|B003UKKH6O|          5|             536|\n",
      "+-----------+----------+-----------+----------------+\n",
      "only showing top 20 rows"
     ]
    }
   ],
   "source": [
    "from pyspark.ml.feature import StringIndexer\n",
    "\n",
    "indexer = StringIndexer(inputCol=\"product_id\", outputCol=\"product_id_index\")\n",
    "df_mod_indexed = indexer.fit(df_mod).transform(df_mod)\n",
    "df_mod_indexed = df_mod_indexed.withColumn(\"product_id_index\",df_mod_indexed[\"product_id_index\"].cast(IntegerType()))\n",
    "df_mod_indexed.show()"
   ]
  },
  {
   "cell_type": "code",
   "execution_count": 8,
   "metadata": {},
   "outputs": [
    {
     "data": {
      "application/vnd.jupyter.widget-view+json": {
       "model_id": "2ee7c92002fb4b1890949af71ee450db",
       "version_major": 2,
       "version_minor": 0
      },
      "text/plain": [
       "VBox()"
      ]
     },
     "metadata": {},
     "output_type": "display_data"
    },
    {
     "data": {
      "application/vnd.jupyter.widget-view+json": {
       "model_id": "",
       "version_major": 2,
       "version_minor": 0
      },
      "text/plain": [
       "FloatProgress(value=0.0, bar_style='info', description='Progress:', layout=Layout(height='25px', width='50%'),…"
      ]
     },
     "metadata": {},
     "output_type": "display_data"
    }
   ],
   "source": [
    "df_mod_indexed=df_mod_indexed.drop(\"product_id\")"
   ]
  },
  {
   "cell_type": "code",
   "execution_count": 9,
   "metadata": {},
   "outputs": [
    {
     "data": {
      "application/vnd.jupyter.widget-view+json": {
       "model_id": "cb2e14d0143542278089e1bc1c2e28c5",
       "version_major": 2,
       "version_minor": 0
      },
      "text/plain": [
       "VBox()"
      ]
     },
     "metadata": {},
     "output_type": "display_data"
    },
    {
     "data": {
      "application/vnd.jupyter.widget-view+json": {
       "model_id": "",
       "version_major": 2,
       "version_minor": 0
      },
      "text/plain": [
       "FloatProgress(value=0.0, bar_style='info', description='Progress:', layout=Layout(height='25px', width='50%'),…"
      ]
     },
     "metadata": {},
     "output_type": "display_data"
    },
    {
     "name": "stdout",
     "output_type": "stream",
     "text": [
      "[('product_id_index', 'int')]"
     ]
    }
   ],
   "source": [
    "df_mod_indexed.select(\"product_id_index\").dtypes"
   ]
  },
  {
   "cell_type": "code",
   "execution_count": 10,
   "metadata": {},
   "outputs": [
    {
     "data": {
      "application/vnd.jupyter.widget-view+json": {
       "model_id": "43b03bddac5643b5ad9d21df3e80ab33",
       "version_major": 2,
       "version_minor": 0
      },
      "text/plain": [
       "VBox()"
      ]
     },
     "metadata": {},
     "output_type": "display_data"
    },
    {
     "data": {
      "application/vnd.jupyter.widget-view+json": {
       "model_id": "",
       "version_major": 2,
       "version_minor": 0
      },
      "text/plain": [
       "FloatProgress(value=0.0, bar_style='info', description='Progress:', layout=Layout(height='25px', width='50%'),…"
      ]
     },
     "metadata": {},
     "output_type": "display_data"
    }
   ],
   "source": [
    "#Ahora normalizaremos los ratings por item para verificar si podemos obtener un mejore RMSE\n",
    "from pyspark.sql.functions import *\n",
    "from pyspark.sql.window import Window\n",
    "\n",
    "def z_score(c, w):\n",
    "    return (col(c) - mean(c).over(w)) / stddev(c).over(w)"
   ]
  },
  {
   "cell_type": "code",
   "execution_count": 11,
   "metadata": {},
   "outputs": [
    {
     "data": {
      "application/vnd.jupyter.widget-view+json": {
       "model_id": "1352b53759924489aaf353646909dc3b",
       "version_major": 2,
       "version_minor": 0
      },
      "text/plain": [
       "VBox()"
      ]
     },
     "metadata": {},
     "output_type": "display_data"
    },
    {
     "data": {
      "application/vnd.jupyter.widget-view+json": {
       "model_id": "",
       "version_major": 2,
       "version_minor": 0
      },
      "text/plain": [
       "FloatProgress(value=0.0, bar_style='info', description='Progress:', layout=Layout(height='25px', width='50%'),…"
      ]
     },
     "metadata": {},
     "output_type": "display_data"
    }
   ],
   "source": [
    "w = Window.partitionBy(\"product_id_index\")"
   ]
  },
  {
   "cell_type": "code",
   "execution_count": 12,
   "metadata": {},
   "outputs": [
    {
     "data": {
      "application/vnd.jupyter.widget-view+json": {
       "model_id": "73d882e90bc74714b27f8cdfb4315205",
       "version_major": 2,
       "version_minor": 0
      },
      "text/plain": [
       "VBox()"
      ]
     },
     "metadata": {},
     "output_type": "display_data"
    },
    {
     "data": {
      "application/vnd.jupyter.widget-view+json": {
       "model_id": "",
       "version_major": 2,
       "version_minor": 0
      },
      "text/plain": [
       "FloatProgress(value=0.0, bar_style='info', description='Progress:', layout=Layout(height='25px', width='50%'),…"
      ]
     },
     "metadata": {},
     "output_type": "display_data"
    }
   ],
   "source": [
    "from pyspark.sql import functions as F"
   ]
  },
  {
   "cell_type": "code",
   "execution_count": 13,
   "metadata": {},
   "outputs": [
    {
     "data": {
      "application/vnd.jupyter.widget-view+json": {
       "model_id": "bfbed4f808e342159860fb8792de7504",
       "version_major": 2,
       "version_minor": 0
      },
      "text/plain": [
       "VBox()"
      ]
     },
     "metadata": {},
     "output_type": "display_data"
    },
    {
     "data": {
      "application/vnd.jupyter.widget-view+json": {
       "model_id": "",
       "version_major": 2,
       "version_minor": 0
      },
      "text/plain": [
       "FloatProgress(value=0.0, bar_style='info', description='Progress:', layout=Layout(height='25px', width='50%'),…"
      ]
     },
     "metadata": {},
     "output_type": "display_data"
    }
   ],
   "source": [
    "df_norm = (df_mod_indexed.withColumn('mean', F.mean(\"star_rating\").over(w))\n",
    "           .withColumn(\"star_rating\", ((F.col(\"star_rating\") - F.col('mean'))))\n",
    "        .drop('mean'))"
   ]
  },
  {
   "cell_type": "code",
   "execution_count": 14,
   "metadata": {},
   "outputs": [
    {
     "data": {
      "application/vnd.jupyter.widget-view+json": {
       "model_id": "23f3c81f5ba74549a04c27dca5df768f",
       "version_major": 2,
       "version_minor": 0
      },
      "text/plain": [
       "VBox()"
      ]
     },
     "metadata": {},
     "output_type": "display_data"
    },
    {
     "data": {
      "application/vnd.jupyter.widget-view+json": {
       "model_id": "",
       "version_major": 2,
       "version_minor": 0
      },
      "text/plain": [
       "FloatProgress(value=0.0, bar_style='info', description='Progress:', layout=Layout(height='25px', width='50%'),…"
      ]
     },
     "metadata": {},
     "output_type": "display_data"
    },
    {
     "name": "stdout",
     "output_type": "stream",
     "text": [
      "+-----------+--------------------+----------------+\n",
      "|customer_id|         star_rating|product_id_index|\n",
      "+-----------+--------------------+----------------+\n",
      "|   23109705|  0.7945286946179007|              12|\n",
      "|     489211|  0.7945286946179007|              12|\n",
      "|   12641855|  0.7945286946179007|              12|\n",
      "|   32685817|-0.20547130538209935|              12|\n",
      "|   17012967| -3.2054713053820993|              12|\n",
      "+-----------+--------------------+----------------+\n",
      "only showing top 5 rows"
     ]
    }
   ],
   "source": [
    "df_norm.show(5)"
   ]
  },
  {
   "cell_type": "markdown",
   "metadata": {},
   "source": [
    "### Normalizando solo por product Id"
   ]
  },
  {
   "cell_type": "code",
   "execution_count": 15,
   "metadata": {},
   "outputs": [
    {
     "data": {
      "application/vnd.jupyter.widget-view+json": {
       "model_id": "4796f50d25a44f399b04458988fbb4e8",
       "version_major": 2,
       "version_minor": 0
      },
      "text/plain": [
       "VBox()"
      ]
     },
     "metadata": {},
     "output_type": "display_data"
    },
    {
     "data": {
      "application/vnd.jupyter.widget-view+json": {
       "model_id": "",
       "version_major": 2,
       "version_minor": 0
      },
      "text/plain": [
       "FloatProgress(value=0.0, bar_style='info', description='Progress:', layout=Layout(height='25px', width='50%'),…"
      ]
     },
     "metadata": {},
     "output_type": "display_data"
    }
   ],
   "source": [
    "from pyspark.ml.evaluation import RegressionEvaluator\n",
    "from pyspark.ml.recommendation import ALS"
   ]
  },
  {
   "cell_type": "code",
   "execution_count": 16,
   "metadata": {},
   "outputs": [
    {
     "data": {
      "application/vnd.jupyter.widget-view+json": {
       "model_id": "4f50553916a243c79505d88260644c1a",
       "version_major": 2,
       "version_minor": 0
      },
      "text/plain": [
       "VBox()"
      ]
     },
     "metadata": {},
     "output_type": "display_data"
    },
    {
     "data": {
      "application/vnd.jupyter.widget-view+json": {
       "model_id": "",
       "version_major": 2,
       "version_minor": 0
      },
      "text/plain": [
       "FloatProgress(value=0.0, bar_style='info', description='Progress:', layout=Layout(height='25px', width='50%'),…"
      ]
     },
     "metadata": {},
     "output_type": "display_data"
    }
   ],
   "source": [
    "(training,test)=df_norm.randomSplit([0.8, 0.2])"
   ]
  },
  {
   "cell_type": "code",
   "execution_count": 17,
   "metadata": {},
   "outputs": [
    {
     "data": {
      "application/vnd.jupyter.widget-view+json": {
       "model_id": "771be89450704da69754f093844ccc86",
       "version_major": 2,
       "version_minor": 0
      },
      "text/plain": [
       "VBox()"
      ]
     },
     "metadata": {},
     "output_type": "display_data"
    },
    {
     "data": {
      "application/vnd.jupyter.widget-view+json": {
       "model_id": "",
       "version_major": 2,
       "version_minor": 0
      },
      "text/plain": [
       "FloatProgress(value=0.0, bar_style='info', description='Progress:', layout=Layout(height='25px', width='50%'),…"
      ]
     },
     "metadata": {},
     "output_type": "display_data"
    }
   ],
   "source": [
    "als=ALS(maxIter=5,regParam=0.09,rank=25,userCol=\"customer_id\",itemCol=\"product_id_index\",ratingCol=\"star_rating\",coldStartStrategy=\"drop\",nonnegative=True)\n",
    "model=als.fit(training)"
   ]
  },
  {
   "cell_type": "code",
   "execution_count": 18,
   "metadata": {},
   "outputs": [
    {
     "data": {
      "application/vnd.jupyter.widget-view+json": {
       "model_id": "d4b7be7829794d0ab34ce85fda61fee6",
       "version_major": 2,
       "version_minor": 0
      },
      "text/plain": [
       "VBox()"
      ]
     },
     "metadata": {},
     "output_type": "display_data"
    },
    {
     "data": {
      "application/vnd.jupyter.widget-view+json": {
       "model_id": "",
       "version_major": 2,
       "version_minor": 0
      },
      "text/plain": [
       "FloatProgress(value=0.0, bar_style='info', description='Progress:', layout=Layout(height='25px', width='50%'),…"
      ]
     },
     "metadata": {},
     "output_type": "display_data"
    },
    {
     "name": "stdout",
     "output_type": "stream",
     "text": [
      "RMSE=1.1147975693605026\n",
      "+-----------+--------------------+----------------+----------+\n",
      "|customer_id|         star_rating|product_id_index|prediction|\n",
      "+-----------+--------------------+----------------+----------+\n",
      "|    9711777|  0.7945286946179007|              12|0.69269514|\n",
      "|   10259710| -2.2054713053820993|              12|       0.0|\n",
      "|   11069344|  0.7945286946179007|              12|  0.606427|\n",
      "|   11215854|-0.20547130538209935|              12|0.09630573|\n",
      "|   12990320|  0.7945286946179007|              12|0.69269514|\n",
      "|   15842544|  0.7945286946179007|              12|0.59026515|\n",
      "|   16413469|-0.20547130538209935|              12|       0.0|\n",
      "|   16857311| -2.2054713053820993|              12|       0.0|\n",
      "|   17153070|  0.7945286946179007|              12| 0.3626032|\n",
      "|   17217809|-0.20547130538209935|              12|       0.0|\n",
      "|   17528743|  0.7945286946179007|              12| 0.6312808|\n",
      "|   18533425|-0.20547130538209935|              12|0.12021449|\n",
      "|   18538027|  0.7945286946179007|              12|0.63293964|\n",
      "|   19790825|  0.7945286946179007|              12|0.69269514|\n",
      "|   33843583|  0.7945286946179007|              12| 0.2769869|\n",
      "|   36064762|  0.7945286946179007|              12| 0.4329771|\n",
      "|   38898174|  0.7945286946179007|              12|0.69269514|\n",
      "|   40917939|  0.7945286946179007|              12|0.09679139|\n",
      "|   45522344|  0.7945286946179007|              12|0.12118662|\n",
      "|   50889599|-0.20547130538209935|              12|0.02108827|\n",
      "+-----------+--------------------+----------------+----------+\n",
      "only showing top 20 rows"
     ]
    }
   ],
   "source": [
    "evaluator=RegressionEvaluator(metricName=\"rmse\",labelCol=\"star_rating\",predictionCol=\"prediction\")\n",
    "predictions=model.transform(test)\n",
    "rmse=evaluator.evaluate(predictions)\n",
    "print(\"RMSE=\"+str(rmse))\n",
    "predictions.show()"
   ]
  },
  {
   "cell_type": "markdown",
   "metadata": {},
   "source": [
    "## Normalizando los ratings por usuario"
   ]
  },
  {
   "cell_type": "code",
   "execution_count": 19,
   "metadata": {},
   "outputs": [
    {
     "data": {
      "application/vnd.jupyter.widget-view+json": {
       "model_id": "2acd794623c14966999f8f7b4adf990b",
       "version_major": 2,
       "version_minor": 0
      },
      "text/plain": [
       "VBox()"
      ]
     },
     "metadata": {},
     "output_type": "display_data"
    },
    {
     "data": {
      "application/vnd.jupyter.widget-view+json": {
       "model_id": "",
       "version_major": 2,
       "version_minor": 0
      },
      "text/plain": [
       "FloatProgress(value=0.0, bar_style='info', description='Progress:', layout=Layout(height='25px', width='50%'),…"
      ]
     },
     "metadata": {},
     "output_type": "display_data"
    }
   ],
   "source": [
    "w = Window.partitionBy(\"customer_id\")\n",
    "df_norm = (df_mod_indexed.withColumn('mean', F.mean(\"star_rating\").over(w))\n",
    "           .withColumn(\"star_rating\", ((F.col(\"star_rating\") - F.col('mean'))))\n",
    "        .drop('mean'))"
   ]
  },
  {
   "cell_type": "code",
   "execution_count": 20,
   "metadata": {},
   "outputs": [
    {
     "data": {
      "application/vnd.jupyter.widget-view+json": {
       "model_id": "94c3e6a6008b4cd2b126fe735295c8e3",
       "version_major": 2,
       "version_minor": 0
      },
      "text/plain": [
       "VBox()"
      ]
     },
     "metadata": {},
     "output_type": "display_data"
    },
    {
     "data": {
      "application/vnd.jupyter.widget-view+json": {
       "model_id": "",
       "version_major": 2,
       "version_minor": 0
      },
      "text/plain": [
       "FloatProgress(value=0.0, bar_style='info', description='Progress:', layout=Layout(height='25px', width='50%'),…"
      ]
     },
     "metadata": {},
     "output_type": "display_data"
    },
    {
     "name": "stdout",
     "output_type": "stream",
     "text": [
      "+-----------+-------------------+----------------+\n",
      "|customer_id|        star_rating|product_id_index|\n",
      "+-----------+-------------------+----------------+\n",
      "|      11090|                0.0|           30930|\n",
      "|      11124|                0.0|          432669|\n",
      "|      11177|                0.0|          307683|\n",
      "|      11257|0.33333333333333304|            1838|\n",
      "|      11257|0.33333333333333304|            3882|\n",
      "+-----------+-------------------+----------------+\n",
      "only showing top 5 rows"
     ]
    }
   ],
   "source": [
    "df_norm.show(5)"
   ]
  },
  {
   "cell_type": "code",
   "execution_count": 21,
   "metadata": {},
   "outputs": [
    {
     "data": {
      "application/vnd.jupyter.widget-view+json": {
       "model_id": "eea04d9029ad4980812cb92c8baadf90",
       "version_major": 2,
       "version_minor": 0
      },
      "text/plain": [
       "VBox()"
      ]
     },
     "metadata": {},
     "output_type": "display_data"
    },
    {
     "data": {
      "application/vnd.jupyter.widget-view+json": {
       "model_id": "",
       "version_major": 2,
       "version_minor": 0
      },
      "text/plain": [
       "FloatProgress(value=0.0, bar_style='info', description='Progress:', layout=Layout(height='25px', width='50%'),…"
      ]
     },
     "metadata": {},
     "output_type": "display_data"
    }
   ],
   "source": [
    "(training,test)=df_norm.randomSplit([0.8, 0.2])"
   ]
  },
  {
   "cell_type": "code",
   "execution_count": 22,
   "metadata": {},
   "outputs": [
    {
     "data": {
      "application/vnd.jupyter.widget-view+json": {
       "model_id": "9760d8b54fd04572832ce296c0f84021",
       "version_major": 2,
       "version_minor": 0
      },
      "text/plain": [
       "VBox()"
      ]
     },
     "metadata": {},
     "output_type": "display_data"
    },
    {
     "data": {
      "application/vnd.jupyter.widget-view+json": {
       "model_id": "",
       "version_major": 2,
       "version_minor": 0
      },
      "text/plain": [
       "FloatProgress(value=0.0, bar_style='info', description='Progress:', layout=Layout(height='25px', width='50%'),…"
      ]
     },
     "metadata": {},
     "output_type": "display_data"
    }
   ],
   "source": [
    "als=ALS(maxIter=5,regParam=0.09,rank=25,userCol=\"customer_id\",itemCol=\"product_id_index\",ratingCol=\"star_rating\",coldStartStrategy=\"drop\",nonnegative=True)\n",
    "model=als.fit(training)"
   ]
  },
  {
   "cell_type": "code",
   "execution_count": 23,
   "metadata": {},
   "outputs": [
    {
     "data": {
      "application/vnd.jupyter.widget-view+json": {
       "model_id": "b971df98c8fd4424b82258ec10106ee6",
       "version_major": 2,
       "version_minor": 0
      },
      "text/plain": [
       "VBox()"
      ]
     },
     "metadata": {},
     "output_type": "display_data"
    },
    {
     "data": {
      "application/vnd.jupyter.widget-view+json": {
       "model_id": "",
       "version_major": 2,
       "version_minor": 0
      },
      "text/plain": [
       "FloatProgress(value=0.0, bar_style='info', description='Progress:', layout=Layout(height='25px', width='50%'),…"
      ]
     },
     "metadata": {},
     "output_type": "display_data"
    },
    {
     "name": "stdout",
     "output_type": "stream",
     "text": [
      "RMSE=0.9493695006048416\n",
      "+-----------+-------------------+----------------+-----------+\n",
      "|customer_id|        star_rating|product_id_index| prediction|\n",
      "+-----------+-------------------+----------------+-----------+\n",
      "|     197339|                0.0|              12|        0.0|\n",
      "|     523057|                0.0|              12|        0.0|\n",
      "|    1773521|               -1.5|              12|        0.0|\n",
      "|    6531285|                0.0|              12|        0.0|\n",
      "|    6647905|               0.25|              12|        0.0|\n",
      "|   14082085|                0.0|              12|        0.0|\n",
      "|   15869883|                1.0|              12|  0.6005992|\n",
      "|   22134342|                0.5|              12| 0.35039532|\n",
      "|   25283108|                0.0|              12|        0.0|\n",
      "|   25702176|               -0.5|              12|0.026170174|\n",
      "|   26539155|               -1.5|              12|        0.0|\n",
      "|   26577467|-1.9166666666666665|              12| 0.29019225|\n",
      "|   27729734|                0.0|              12|        0.0|\n",
      "|   29479913|              0.125|              12| 0.07516907|\n",
      "|   30222697|                0.0|              12|        0.0|\n",
      "|   37993846|                0.0|              12|        0.0|\n",
      "|   39045189| 0.9130434782608692|              12|0.049744956|\n",
      "|   42391623|0.40000000000000036|              12| 0.27760455|\n",
      "|   46380770|                0.0|              12|        0.0|\n",
      "|   48732611| 0.3461538461538458|              12|0.034794938|\n",
      "+-----------+-------------------+----------------+-----------+\n",
      "only showing top 20 rows"
     ]
    }
   ],
   "source": [
    "evaluator=RegressionEvaluator(metricName=\"rmse\",labelCol=\"star_rating\",predictionCol=\"prediction\")\n",
    "predictions=model.transform(test)\n",
    "rmse=evaluator.evaluate(predictions)\n",
    "print(\"RMSE=\"+str(rmse))\n",
    "predictions.show()"
   ]
  },
  {
   "cell_type": "markdown",
   "metadata": {},
   "source": [
    "## Ajuste de hiperparametros"
   ]
  },
  {
   "cell_type": "code",
   "execution_count": 24,
   "metadata": {},
   "outputs": [
    {
     "data": {
      "application/vnd.jupyter.widget-view+json": {
       "model_id": "72512c4129f147ec86bfd419eabc1117",
       "version_major": 2,
       "version_minor": 0
      },
      "text/plain": [
       "VBox()"
      ]
     },
     "metadata": {},
     "output_type": "display_data"
    },
    {
     "data": {
      "application/vnd.jupyter.widget-view+json": {
       "model_id": "",
       "version_major": 2,
       "version_minor": 0
      },
      "text/plain": [
       "FloatProgress(value=0.0, bar_style='info', description='Progress:', layout=Layout(height='25px', width='50%'),…"
      ]
     },
     "metadata": {},
     "output_type": "display_data"
    }
   ],
   "source": [
    "als=ALS(maxIter=10,regParam=0.05,rank=10,userCol=\"customer_id\",itemCol=\"product_id_index\",ratingCol=\"star_rating\",coldStartStrategy=\"drop\",nonnegative=True)\n",
    "model=als.fit(training)"
   ]
  },
  {
   "cell_type": "code",
   "execution_count": 25,
   "metadata": {},
   "outputs": [
    {
     "data": {
      "application/vnd.jupyter.widget-view+json": {
       "model_id": "1a79029b0336410da4197e9a9a5fe9b6",
       "version_major": 2,
       "version_minor": 0
      },
      "text/plain": [
       "VBox()"
      ]
     },
     "metadata": {},
     "output_type": "display_data"
    },
    {
     "data": {
      "application/vnd.jupyter.widget-view+json": {
       "model_id": "",
       "version_major": 2,
       "version_minor": 0
      },
      "text/plain": [
       "FloatProgress(value=0.0, bar_style='info', description='Progress:', layout=Layout(height='25px', width='50%'),…"
      ]
     },
     "metadata": {},
     "output_type": "display_data"
    },
    {
     "name": "stdout",
     "output_type": "stream",
     "text": [
      "RMSE=0.9690639518570164\n",
      "+-----------+-------------------+----------------+----------+\n",
      "|customer_id|        star_rating|product_id_index|prediction|\n",
      "+-----------+-------------------+----------------+----------+\n",
      "|     197339|                0.0|              12|       0.0|\n",
      "|     523057|                0.0|              12|       0.0|\n",
      "|    1773521|               -1.5|              12|       0.0|\n",
      "|    6531285|                0.0|              12|       0.0|\n",
      "|    6647905|               0.25|              12| 0.9248162|\n",
      "|   14082085|                0.0|              12|       0.0|\n",
      "|   15869883|                1.0|              12| 0.7780253|\n",
      "|   22134342|                0.5|              12|0.42315927|\n",
      "|   25283108|                0.0|              12|       0.0|\n",
      "|   25702176|               -0.5|              12|       0.0|\n",
      "|   26539155|               -1.5|              12|       0.0|\n",
      "|   26577467|-1.9166666666666665|              12|0.12991709|\n",
      "|   27729734|                0.0|              12|       0.0|\n",
      "|   29479913|              0.125|              12|0.10017909|\n",
      "|   30222697|                0.0|              12|       0.0|\n",
      "|   37993846|                0.0|              12|       0.0|\n",
      "|   39045189| 0.9130434782608692|              12|       0.0|\n",
      "|   42391623|0.40000000000000036|              12|0.31437093|\n",
      "|   46380770|                0.0|              12|       0.0|\n",
      "|   48732611| 0.3461538461538458|              12|0.10869284|\n",
      "+-----------+-------------------+----------------+----------+\n",
      "only showing top 20 rows"
     ]
    }
   ],
   "source": [
    "evaluator=RegressionEvaluator(metricName=\"rmse\",labelCol=\"star_rating\",predictionCol=\"prediction\")\n",
    "predictions=model.transform(test)\n",
    "rmse=evaluator.evaluate(predictions)\n",
    "print(\"RMSE=\"+str(rmse))\n",
    "predictions.show()"
   ]
  },
  {
   "cell_type": "markdown",
   "metadata": {},
   "source": [
    "### Iteración 2"
   ]
  },
  {
   "cell_type": "code",
   "execution_count": 26,
   "metadata": {},
   "outputs": [
    {
     "data": {
      "application/vnd.jupyter.widget-view+json": {
       "model_id": "e9942999a4bb4a5cbd9b09ad38bc79e8",
       "version_major": 2,
       "version_minor": 0
      },
      "text/plain": [
       "VBox()"
      ]
     },
     "metadata": {},
     "output_type": "display_data"
    },
    {
     "data": {
      "application/vnd.jupyter.widget-view+json": {
       "model_id": "",
       "version_major": 2,
       "version_minor": 0
      },
      "text/plain": [
       "FloatProgress(value=0.0, bar_style='info', description='Progress:', layout=Layout(height='25px', width='50%'),…"
      ]
     },
     "metadata": {},
     "output_type": "display_data"
    }
   ],
   "source": [
    "als=ALS(maxIter=5,regParam=0.1,rank=15,userCol=\"customer_id\",itemCol=\"product_id_index\",ratingCol=\"star_rating\",coldStartStrategy=\"drop\",nonnegative=True)\n",
    "model=als.fit(training)"
   ]
  },
  {
   "cell_type": "code",
   "execution_count": 27,
   "metadata": {},
   "outputs": [
    {
     "data": {
      "application/vnd.jupyter.widget-view+json": {
       "model_id": "e250d60a10c84e208e9684e50b38dcfa",
       "version_major": 2,
       "version_minor": 0
      },
      "text/plain": [
       "VBox()"
      ]
     },
     "metadata": {},
     "output_type": "display_data"
    },
    {
     "data": {
      "application/vnd.jupyter.widget-view+json": {
       "model_id": "",
       "version_major": 2,
       "version_minor": 0
      },
      "text/plain": [
       "FloatProgress(value=0.0, bar_style='info', description='Progress:', layout=Layout(height='25px', width='50%'),…"
      ]
     },
     "metadata": {},
     "output_type": "display_data"
    },
    {
     "name": "stdout",
     "output_type": "stream",
     "text": [
      "RMSE=0.9499733081067021\n",
      "+-----------+-------------------+----------------+-----------+\n",
      "|customer_id|        star_rating|product_id_index| prediction|\n",
      "+-----------+-------------------+----------------+-----------+\n",
      "|     197339|                0.0|              12|        0.0|\n",
      "|     523057|                0.0|              12|        0.0|\n",
      "|    1773521|               -1.5|              12|        0.0|\n",
      "|    6531285|                0.0|              12|        0.0|\n",
      "|    6647905|               0.25|              12| 0.11362219|\n",
      "|   14082085|                0.0|              12|        0.0|\n",
      "|   15869883|                1.0|              12|  0.5727278|\n",
      "|   22134342|                0.5|              12| 0.15253676|\n",
      "|   25283108|                0.0|              12|        0.0|\n",
      "|   25702176|               -0.5|              12|        0.0|\n",
      "|   26539155|               -1.5|              12|        0.0|\n",
      "|   26577467|-1.9166666666666665|              12|0.054613266|\n",
      "|   27729734|                0.0|              12|        0.0|\n",
      "|   29479913|              0.125|              12|0.016776321|\n",
      "|   30222697|                0.0|              12|        0.0|\n",
      "|   37993846|                0.0|              12|        0.0|\n",
      "|   39045189| 0.9130434782608692|              12| 0.09734759|\n",
      "|   42391623|0.40000000000000036|              12| 0.22771929|\n",
      "|   46380770|                0.0|              12|        0.0|\n",
      "|   48732611| 0.3461538461538458|              12| 0.20244941|\n",
      "+-----------+-------------------+----------------+-----------+\n",
      "only showing top 20 rows"
     ]
    }
   ],
   "source": [
    "evaluator=RegressionEvaluator(metricName=\"rmse\",labelCol=\"star_rating\",predictionCol=\"prediction\")\n",
    "predictions=model.transform(test)\n",
    "rmse=evaluator.evaluate(predictions)\n",
    "print(\"RMSE=\"+str(rmse))\n",
    "predictions.show()"
   ]
  },
  {
   "cell_type": "markdown",
   "metadata": {},
   "source": [
    "### Iteración 3"
   ]
  },
  {
   "cell_type": "code",
   "execution_count": 28,
   "metadata": {},
   "outputs": [
    {
     "data": {
      "application/vnd.jupyter.widget-view+json": {
       "model_id": "5f9385e55cf347d7920f2c5de6be6ee4",
       "version_major": 2,
       "version_minor": 0
      },
      "text/plain": [
       "VBox()"
      ]
     },
     "metadata": {},
     "output_type": "display_data"
    },
    {
     "data": {
      "application/vnd.jupyter.widget-view+json": {
       "model_id": "",
       "version_major": 2,
       "version_minor": 0
      },
      "text/plain": [
       "FloatProgress(value=0.0, bar_style='info', description='Progress:', layout=Layout(height='25px', width='50%'),…"
      ]
     },
     "metadata": {},
     "output_type": "display_data"
    }
   ],
   "source": [
    "als=ALS(maxIter=5,regParam=0.01,rank=30,userCol=\"customer_id\",itemCol=\"product_id_index\",ratingCol=\"star_rating\",coldStartStrategy=\"drop\",nonnegative=True)\n",
    "model=als.fit(training)"
   ]
  },
  {
   "cell_type": "code",
   "execution_count": 29,
   "metadata": {},
   "outputs": [
    {
     "data": {
      "application/vnd.jupyter.widget-view+json": {
       "model_id": "e9babdef29e64b7eb1c6fa1f1d8f4be8",
       "version_major": 2,
       "version_minor": 0
      },
      "text/plain": [
       "VBox()"
      ]
     },
     "metadata": {},
     "output_type": "display_data"
    },
    {
     "data": {
      "application/vnd.jupyter.widget-view+json": {
       "model_id": "",
       "version_major": 2,
       "version_minor": 0
      },
      "text/plain": [
       "FloatProgress(value=0.0, bar_style='info', description='Progress:', layout=Layout(height='25px', width='50%'),…"
      ]
     },
     "metadata": {},
     "output_type": "display_data"
    },
    {
     "name": "stdout",
     "output_type": "stream",
     "text": [
      "RMSE=0.984361406353269\n",
      "+-----------+------------------+----------------+----------+\n",
      "|customer_id|       star_rating|product_id_index|prediction|\n",
      "+-----------+------------------+----------------+----------+\n",
      "|    4059899|               0.0|              12|       0.0|\n",
      "|    6165336|               0.0|              12|       0.0|\n",
      "|    9700175|0.5999999999999996|              12| 0.5670325|\n",
      "|   10536753|               0.0|              12|       0.0|\n",
      "|   11243840|               0.0|              12|       0.0|\n",
      "|   12990320|               0.0|              12|       0.0|\n",
      "|   16082975|0.2142857142857144|              12| 0.1994639|\n",
      "|   17217809|               0.0|              12|       0.0|\n",
      "|   17528743|               0.0|              12|       0.0|\n",
      "|   17778498|               0.5|              12|0.59400934|\n",
      "|   18209681|               0.0|              12|       0.0|\n",
      "|   19861993|               0.0|              12|       0.0|\n",
      "|   23204599|1.1666666666666665|              12| 1.0342299|\n",
      "|   27673225|               0.0|              12|       0.0|\n",
      "|   31247328|               0.0|              12|       0.0|\n",
      "|   32293280|               0.0|              12|       0.0|\n",
      "|   33843583|0.4400000000000004|              12|0.20327549|\n",
      "|   38958212|               0.0|              12|       0.0|\n",
      "|   42027268|               0.0|              12|       0.0|\n",
      "|   42066993|              -0.5|              12|0.11847758|\n",
      "+-----------+------------------+----------------+----------+\n",
      "only showing top 20 rows"
     ]
    }
   ],
   "source": [
    "evaluator=RegressionEvaluator(metricName=\"rmse\",labelCol=\"star_rating\",predictionCol=\"prediction\")\n",
    "predictions=model.transform(test)\n",
    "rmse=evaluator.evaluate(predictions)\n",
    "print(\"RMSE=\"+str(rmse))\n",
    "predictions.show()"
   ]
  },
  {
   "cell_type": "code",
   "execution_count": null,
   "metadata": {},
   "outputs": [],
   "source": []
  }
 ],
 "metadata": {
  "kernelspec": {
   "display_name": "Python 3",
   "language": "python",
   "name": "python3"
  },
  "language_info": {
   "codemirror_mode": {
    "name": "ipython",
    "version": 3
   },
   "file_extension": ".py",
   "mimetype": "text/x-python",
   "name": "python",
   "nbconvert_exporter": "python",
   "pygments_lexer": "ipython3",
   "version": "3.8.3"
  }
 },
 "nbformat": 4,
 "nbformat_minor": 4
}
